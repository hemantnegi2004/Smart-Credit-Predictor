{
 "cells": [
  {
   "cell_type": "code",
   "execution_count": 1,
   "id": "638ff2f3-47a0-4769-84c9-b37bf54d4eb0",
   "metadata": {},
   "outputs": [],
   "source": [
    "import pandas as pd\n",
    "import numpy as np\n",
    "import seaborn as sns\n",
    "import os\n",
    "import matplotlib.pyplot as plt\n",
    "%matplotlib inline"
   ]
  },
  {
   "cell_type": "code",
   "execution_count": 2,
   "id": "7ae7da53-d47e-43c9-ba55-fc512a51ed47",
   "metadata": {},
   "outputs": [],
   "source": [
    "os.chdir('C:\\\\Users\\\\ASUS\\\\Desktop\\\\python case studies\\\\11. Capstone Case Study - Predict Cred Card Consumption')"
   ]
  },
  {
   "cell_type": "code",
   "execution_count": 3,
   "id": "54fe6a82-8247-4f6b-ad34-7ea8322fdee6",
   "metadata": {},
   "outputs": [],
   "source": [
    "creditConsumption = pd.read_excel('CreditConsumptionData.xlsx')"
   ]
  },
  {
   "cell_type": "code",
   "execution_count": 4,
   "id": "1431df7b-5c3d-47d8-b9a6-c83b8730a38d",
   "metadata": {},
   "outputs": [],
   "source": [
    "customerBehavior = pd.read_excel('CustomerBehaviorData.xlsx')"
   ]
  },
  {
   "cell_type": "code",
   "execution_count": 5,
   "id": "5f6d2e52-2236-4b53-a705-57ff4efbe810",
   "metadata": {},
   "outputs": [],
   "source": [
    "customer = pd.read_excel('CustomerDemographics.xlsx')"
   ]
  },
  {
   "cell_type": "code",
   "execution_count": 6,
   "id": "a9fff1fa-9c4e-4e7b-b367-c12832687471",
   "metadata": {},
   "outputs": [],
   "source": [
    "## Understanding The Data"
   ]
  },
  {
   "cell_type": "code",
   "execution_count": 7,
   "id": "fde8beae-91f0-43f5-b064-0b77ade0f34a",
   "metadata": {},
   "outputs": [
    {
     "data": {
      "text/html": [
       "<div>\n",
       "<style scoped>\n",
       "    .dataframe tbody tr th:only-of-type {\n",
       "        vertical-align: middle;\n",
       "    }\n",
       "\n",
       "    .dataframe tbody tr th {\n",
       "        vertical-align: top;\n",
       "    }\n",
       "\n",
       "    .dataframe thead th {\n",
       "        text-align: right;\n",
       "    }\n",
       "</style>\n",
       "<table border=\"1\" class=\"dataframe\">\n",
       "  <thead>\n",
       "    <tr style=\"text-align: right;\">\n",
       "      <th></th>\n",
       "      <th>ID</th>\n",
       "      <th>cc_cons</th>\n",
       "    </tr>\n",
       "  </thead>\n",
       "  <tbody>\n",
       "    <tr>\n",
       "      <th>0</th>\n",
       "      <td>17051</td>\n",
       "      <td>16239.0</td>\n",
       "    </tr>\n",
       "    <tr>\n",
       "      <th>1</th>\n",
       "      <td>11491</td>\n",
       "      <td>39002.0</td>\n",
       "    </tr>\n",
       "    <tr>\n",
       "      <th>2</th>\n",
       "      <td>7433</td>\n",
       "      <td>21182.0</td>\n",
       "    </tr>\n",
       "  </tbody>\n",
       "</table>\n",
       "</div>"
      ],
      "text/plain": [
       "      ID  cc_cons\n",
       "0  17051  16239.0\n",
       "1  11491  39002.0\n",
       "2   7433  21182.0"
      ]
     },
     "execution_count": 7,
     "metadata": {},
     "output_type": "execute_result"
    }
   ],
   "source": [
    "creditConsumption.head(3)"
   ]
  },
  {
   "cell_type": "code",
   "execution_count": 8,
   "id": "ae5109b1-857c-4d09-853f-c97cc8da4347",
   "metadata": {},
   "outputs": [
    {
     "name": "stdout",
     "output_type": "stream",
     "text": [
      "<class 'pandas.core.frame.DataFrame'>\n",
      "RangeIndex: 20000 entries, 0 to 19999\n",
      "Data columns (total 2 columns):\n",
      " #   Column   Non-Null Count  Dtype  \n",
      "---  ------   --------------  -----  \n",
      " 0   ID       20000 non-null  int64  \n",
      " 1   cc_cons  15000 non-null  float64\n",
      "dtypes: float64(1), int64(1)\n",
      "memory usage: 312.6 KB\n"
     ]
    }
   ],
   "source": [
    "creditConsumption.info()"
   ]
  },
  {
   "cell_type": "code",
   "execution_count": 9,
   "id": "8246d000-a12d-4185-856b-31ef97bee324",
   "metadata": {},
   "outputs": [
    {
     "data": {
      "text/html": [
       "<div>\n",
       "<style scoped>\n",
       "    .dataframe tbody tr th:only-of-type {\n",
       "        vertical-align: middle;\n",
       "    }\n",
       "\n",
       "    .dataframe tbody tr th {\n",
       "        vertical-align: top;\n",
       "    }\n",
       "\n",
       "    .dataframe thead th {\n",
       "        text-align: right;\n",
       "    }\n",
       "</style>\n",
       "<table border=\"1\" class=\"dataframe\">\n",
       "  <thead>\n",
       "    <tr style=\"text-align: right;\">\n",
       "      <th></th>\n",
       "      <th>ID</th>\n",
       "      <th>cc_cons_apr</th>\n",
       "      <th>dc_cons_apr</th>\n",
       "      <th>cc_cons_may</th>\n",
       "      <th>dc_cons_may</th>\n",
       "      <th>cc_cons_jun</th>\n",
       "      <th>dc_cons_jun</th>\n",
       "      <th>cc_count_apr</th>\n",
       "      <th>cc_count_may</th>\n",
       "      <th>cc_count_jun</th>\n",
       "      <th>...</th>\n",
       "      <th>credit_count_may</th>\n",
       "      <th>debit_count_may</th>\n",
       "      <th>max_credit_amount_may</th>\n",
       "      <th>debit_amount_jun</th>\n",
       "      <th>credit_amount_jun</th>\n",
       "      <th>credit_count_jun</th>\n",
       "      <th>debit_count_jun</th>\n",
       "      <th>max_credit_amount_jun</th>\n",
       "      <th>loan_enq</th>\n",
       "      <th>emi_active</th>\n",
       "    </tr>\n",
       "  </thead>\n",
       "  <tbody>\n",
       "    <tr>\n",
       "      <th>0</th>\n",
       "      <td>17051</td>\n",
       "      <td>2017.46</td>\n",
       "      <td>29066.66</td>\n",
       "      <td>15919.84</td>\n",
       "      <td>2197.00</td>\n",
       "      <td>3752.000</td>\n",
       "      <td>29798.00</td>\n",
       "      <td>1.0</td>\n",
       "      <td>4</td>\n",
       "      <td>35</td>\n",
       "      <td>...</td>\n",
       "      <td>47</td>\n",
       "      <td>20</td>\n",
       "      <td>41860.0</td>\n",
       "      <td>32734.75</td>\n",
       "      <td>80959.00</td>\n",
       "      <td>36</td>\n",
       "      <td>9</td>\n",
       "      <td>171200.0</td>\n",
       "      <td>Y</td>\n",
       "      <td>3448.84</td>\n",
       "    </tr>\n",
       "    <tr>\n",
       "      <th>1</th>\n",
       "      <td>11491</td>\n",
       "      <td>7687.00</td>\n",
       "      <td>1308.00</td>\n",
       "      <td>41888.92</td>\n",
       "      <td>2216.92</td>\n",
       "      <td>7060.530</td>\n",
       "      <td>3143.36</td>\n",
       "      <td>2.0</td>\n",
       "      <td>27</td>\n",
       "      <td>50</td>\n",
       "      <td>...</td>\n",
       "      <td>0</td>\n",
       "      <td>8</td>\n",
       "      <td>113367.0</td>\n",
       "      <td>60974.75</td>\n",
       "      <td>495080.00</td>\n",
       "      <td>5</td>\n",
       "      <td>3</td>\n",
       "      <td>15694.0</td>\n",
       "      <td>Y</td>\n",
       "      <td>3812.69</td>\n",
       "    </tr>\n",
       "    <tr>\n",
       "      <th>2</th>\n",
       "      <td>7433</td>\n",
       "      <td>9094.46</td>\n",
       "      <td>14825.95</td>\n",
       "      <td>3087.64</td>\n",
       "      <td>769.59</td>\n",
       "      <td>25602.595</td>\n",
       "      <td>1445.00</td>\n",
       "      <td>44.0</td>\n",
       "      <td>8</td>\n",
       "      <td>47</td>\n",
       "      <td>...</td>\n",
       "      <td>2</td>\n",
       "      <td>14</td>\n",
       "      <td>168000.0</td>\n",
       "      <td>425802.96</td>\n",
       "      <td>115707.38</td>\n",
       "      <td>7</td>\n",
       "      <td>58</td>\n",
       "      <td>28058.0</td>\n",
       "      <td>Y</td>\n",
       "      <td>9432.90</td>\n",
       "    </tr>\n",
       "  </tbody>\n",
       "</table>\n",
       "<p>3 rows × 39 columns</p>\n",
       "</div>"
      ],
      "text/plain": [
       "      ID  cc_cons_apr  dc_cons_apr  cc_cons_may  dc_cons_may  cc_cons_jun  \\\n",
       "0  17051      2017.46     29066.66     15919.84      2197.00     3752.000   \n",
       "1  11491      7687.00      1308.00     41888.92      2216.92     7060.530   \n",
       "2   7433      9094.46     14825.95      3087.64       769.59    25602.595   \n",
       "\n",
       "   dc_cons_jun  cc_count_apr  cc_count_may  cc_count_jun  ...  \\\n",
       "0     29798.00           1.0             4            35  ...   \n",
       "1      3143.36           2.0            27            50  ...   \n",
       "2      1445.00          44.0             8            47  ...   \n",
       "\n",
       "   credit_count_may  debit_count_may  max_credit_amount_may  debit_amount_jun  \\\n",
       "0                47               20                41860.0          32734.75   \n",
       "1                 0                8               113367.0          60974.75   \n",
       "2                 2               14               168000.0         425802.96   \n",
       "\n",
       "   credit_amount_jun  credit_count_jun  debit_count_jun  \\\n",
       "0           80959.00                36                9   \n",
       "1          495080.00                 5                3   \n",
       "2          115707.38                 7               58   \n",
       "\n",
       "   max_credit_amount_jun  loan_enq  emi_active  \n",
       "0               171200.0         Y     3448.84  \n",
       "1                15694.0         Y     3812.69  \n",
       "2                28058.0         Y     9432.90  \n",
       "\n",
       "[3 rows x 39 columns]"
      ]
     },
     "execution_count": 9,
     "metadata": {},
     "output_type": "execute_result"
    }
   ],
   "source": [
    "customerBehavior.head(3)"
   ]
  },
  {
   "cell_type": "code",
   "execution_count": 10,
   "id": "b0ae5993-77dd-4172-8832-09ff5e3d942d",
   "metadata": {},
   "outputs": [
    {
     "data": {
      "text/html": [
       "<div>\n",
       "<style scoped>\n",
       "    .dataframe tbody tr th:only-of-type {\n",
       "        vertical-align: middle;\n",
       "    }\n",
       "\n",
       "    .dataframe tbody tr th {\n",
       "        vertical-align: top;\n",
       "    }\n",
       "\n",
       "    .dataframe thead th {\n",
       "        text-align: right;\n",
       "    }\n",
       "</style>\n",
       "<table border=\"1\" class=\"dataframe\">\n",
       "  <thead>\n",
       "    <tr style=\"text-align: right;\">\n",
       "      <th></th>\n",
       "      <th>ID</th>\n",
       "      <th>account_type</th>\n",
       "      <th>gender</th>\n",
       "      <th>age</th>\n",
       "      <th>Income</th>\n",
       "      <th>Emp_Tenure_Years</th>\n",
       "      <th>Tenure_with_Bank</th>\n",
       "      <th>region_code</th>\n",
       "      <th>NetBanking_Flag</th>\n",
       "      <th>Avg_days_between_transaction</th>\n",
       "    </tr>\n",
       "  </thead>\n",
       "  <tbody>\n",
       "    <tr>\n",
       "      <th>0</th>\n",
       "      <td>17051</td>\n",
       "      <td>current</td>\n",
       "      <td>M</td>\n",
       "      <td>30</td>\n",
       "      <td>MEDIUM</td>\n",
       "      <td>26.4</td>\n",
       "      <td>9</td>\n",
       "      <td>9</td>\n",
       "      <td>355</td>\n",
       "      <td>0</td>\n",
       "    </tr>\n",
       "    <tr>\n",
       "      <th>1</th>\n",
       "      <td>11491</td>\n",
       "      <td>current</td>\n",
       "      <td>M</td>\n",
       "      <td>37</td>\n",
       "      <td>LOW</td>\n",
       "      <td>14.4</td>\n",
       "      <td>7</td>\n",
       "      <td>7</td>\n",
       "      <td>485</td>\n",
       "      <td>0</td>\n",
       "    </tr>\n",
       "    <tr>\n",
       "      <th>2</th>\n",
       "      <td>7433</td>\n",
       "      <td>current</td>\n",
       "      <td>M</td>\n",
       "      <td>33</td>\n",
       "      <td>MEDIUM</td>\n",
       "      <td>3.2</td>\n",
       "      <td>1</td>\n",
       "      <td>1</td>\n",
       "      <td>764</td>\n",
       "      <td>0</td>\n",
       "    </tr>\n",
       "  </tbody>\n",
       "</table>\n",
       "</div>"
      ],
      "text/plain": [
       "      ID account_type gender  age  Income  Emp_Tenure_Years  Tenure_with_Bank  \\\n",
       "0  17051      current      M   30  MEDIUM              26.4                 9   \n",
       "1  11491      current      M   37     LOW              14.4                 7   \n",
       "2   7433      current      M   33  MEDIUM               3.2                 1   \n",
       "\n",
       "   region_code  NetBanking_Flag  Avg_days_between_transaction  \n",
       "0            9              355                             0  \n",
       "1            7              485                             0  \n",
       "2            1              764                             0  "
      ]
     },
     "execution_count": 10,
     "metadata": {},
     "output_type": "execute_result"
    }
   ],
   "source": [
    "customer.head(3)"
   ]
  },
  {
   "cell_type": "code",
   "execution_count": 11,
   "id": "0da134e0-baf5-428d-931d-5043cb2882c4",
   "metadata": {},
   "outputs": [
    {
     "name": "stdout",
     "output_type": "stream",
     "text": [
      "<class 'pandas.core.frame.DataFrame'>\n",
      "RangeIndex: 20000 entries, 0 to 19999\n",
      "Data columns (total 10 columns):\n",
      " #   Column                        Non-Null Count  Dtype  \n",
      "---  ------                        --------------  -----  \n",
      " 0   ID                            20000 non-null  int64  \n",
      " 1   account_type                  20000 non-null  object \n",
      " 2   gender                        20000 non-null  object \n",
      " 3   age                           20000 non-null  int64  \n",
      " 4   Income                        20000 non-null  object \n",
      " 5   Emp_Tenure_Years              20000 non-null  float64\n",
      " 6   Tenure_with_Bank              20000 non-null  int64  \n",
      " 7   region_code                   20000 non-null  int64  \n",
      " 8   NetBanking_Flag               20000 non-null  int64  \n",
      " 9   Avg_days_between_transaction  20000 non-null  int64  \n",
      "dtypes: float64(1), int64(6), object(3)\n",
      "memory usage: 1.5+ MB\n"
     ]
    }
   ],
   "source": [
    "customer.info()"
   ]
  },
  {
   "cell_type": "code",
   "execution_count": 12,
   "id": "16e60a5d-ebaf-4e3e-9fe5-4995f5931506",
   "metadata": {},
   "outputs": [
    {
     "data": {
      "text/plain": [
       "Index(['ID', 'cc_cons_apr', 'dc_cons_apr', 'cc_cons_may', 'dc_cons_may',\n",
       "       'cc_cons_jun', 'dc_cons_jun', 'cc_count_apr', 'cc_count_may',\n",
       "       'cc_count_jun', 'dc_count_apr', 'dc_count_may', 'dc_count_jun',\n",
       "       'card_lim', 'personal_loan_active', 'vehicle_loan_active',\n",
       "       'personal_loan_closed', 'vehicle_loan_closed', 'investment_1',\n",
       "       'investment_2', 'investment_3', 'investment_4', 'debit_amount_apr',\n",
       "       'credit_amount_apr', 'debit_count_apr', 'credit_count_apr',\n",
       "       'max_credit_amount_apr', 'debit_amount_may', 'credit_amount_may',\n",
       "       'credit_count_may', 'debit_count_may', 'max_credit_amount_may',\n",
       "       'debit_amount_jun', 'credit_amount_jun', 'credit_count_jun',\n",
       "       'debit_count_jun', 'max_credit_amount_jun', 'loan_enq', 'emi_active'],\n",
       "      dtype='object')"
      ]
     },
     "execution_count": 12,
     "metadata": {},
     "output_type": "execute_result"
    }
   ],
   "source": [
    "customerBehavior.columns"
   ]
  },
  {
   "cell_type": "code",
   "execution_count": 14,
   "id": "4e402485-7237-49b2-9d6c-ef39a6aac819",
   "metadata": {},
   "outputs": [
    {
     "data": {
      "text/html": [
       "<div>\n",
       "<style scoped>\n",
       "    .dataframe tbody tr th:only-of-type {\n",
       "        vertical-align: middle;\n",
       "    }\n",
       "\n",
       "    .dataframe tbody tr th {\n",
       "        vertical-align: top;\n",
       "    }\n",
       "\n",
       "    .dataframe thead th {\n",
       "        text-align: right;\n",
       "    }\n",
       "</style>\n",
       "<table border=\"1\" class=\"dataframe\">\n",
       "  <thead>\n",
       "    <tr style=\"text-align: right;\">\n",
       "      <th></th>\n",
       "      <th>card_lim</th>\n",
       "      <th>personal_loan_active</th>\n",
       "      <th>vehicle_loan_active</th>\n",
       "      <th>personal_loan_closed</th>\n",
       "      <th>vehicle_loan_closed</th>\n",
       "      <th>investment_1</th>\n",
       "      <th>investment_2</th>\n",
       "      <th>investment_3</th>\n",
       "      <th>investment_4</th>\n",
       "      <th>debit_amount_apr</th>\n",
       "      <th>credit_amount_apr</th>\n",
       "      <th>debit_count_apr</th>\n",
       "      <th>credit_count_apr</th>\n",
       "      <th>max_credit_amount_apr</th>\n",
       "      <th>debit_amount_may</th>\n",
       "    </tr>\n",
       "  </thead>\n",
       "  <tbody>\n",
       "    <tr>\n",
       "      <th>0</th>\n",
       "      <td>345000</td>\n",
       "      <td>1</td>\n",
       "      <td>1</td>\n",
       "      <td>1.0</td>\n",
       "      <td>1</td>\n",
       "      <td>115818.74</td>\n",
       "      <td>158000.0</td>\n",
       "      <td>550.0</td>\n",
       "      <td>4795.0</td>\n",
       "      <td>33855.84</td>\n",
       "      <td>33401.0</td>\n",
       "      <td>70.0</td>\n",
       "      <td>36</td>\n",
       "      <td>135149.22</td>\n",
       "      <td>14282.00</td>\n",
       "    </tr>\n",
       "    <tr>\n",
       "      <th>1</th>\n",
       "      <td>369000</td>\n",
       "      <td>1</td>\n",
       "      <td>1</td>\n",
       "      <td>1.0</td>\n",
       "      <td>1</td>\n",
       "      <td>137553.95</td>\n",
       "      <td>187788.1</td>\n",
       "      <td>4699.0</td>\n",
       "      <td>-5439.0</td>\n",
       "      <td>32960.00</td>\n",
       "      <td>32339.0</td>\n",
       "      <td>11.0</td>\n",
       "      <td>4</td>\n",
       "      <td>44368.00</td>\n",
       "      <td>21935.71</td>\n",
       "    </tr>\n",
       "    <tr>\n",
       "      <th>2</th>\n",
       "      <td>27000</td>\n",
       "      <td>1</td>\n",
       "      <td>1</td>\n",
       "      <td>1.0</td>\n",
       "      <td>1</td>\n",
       "      <td>55700.00</td>\n",
       "      <td>165970.9</td>\n",
       "      <td>25508.0</td>\n",
       "      <td>6885.0</td>\n",
       "      <td>115190.10</td>\n",
       "      <td>42200.0</td>\n",
       "      <td>62.0</td>\n",
       "      <td>3</td>\n",
       "      <td>19360.00</td>\n",
       "      <td>56317.68</td>\n",
       "    </tr>\n",
       "  </tbody>\n",
       "</table>\n",
       "</div>"
      ],
      "text/plain": [
       "   card_lim  personal_loan_active  vehicle_loan_active  personal_loan_closed  \\\n",
       "0    345000                     1                    1                   1.0   \n",
       "1    369000                     1                    1                   1.0   \n",
       "2     27000                     1                    1                   1.0   \n",
       "\n",
       "   vehicle_loan_closed  investment_1  investment_2  investment_3  \\\n",
       "0                    1     115818.74      158000.0         550.0   \n",
       "1                    1     137553.95      187788.1        4699.0   \n",
       "2                    1      55700.00      165970.9       25508.0   \n",
       "\n",
       "   investment_4  debit_amount_apr  credit_amount_apr  debit_count_apr  \\\n",
       "0        4795.0          33855.84            33401.0             70.0   \n",
       "1       -5439.0          32960.00            32339.0             11.0   \n",
       "2        6885.0         115190.10            42200.0             62.0   \n",
       "\n",
       "   credit_count_apr  max_credit_amount_apr  debit_amount_may  \n",
       "0                36              135149.22          14282.00  \n",
       "1                 4               44368.00          21935.71  \n",
       "2                 3               19360.00          56317.68  "
      ]
     },
     "execution_count": 14,
     "metadata": {},
     "output_type": "execute_result"
    }
   ],
   "source": [
    "customerBehavior[['card_lim', 'personal_loan_active', 'vehicle_loan_active',\n",
    "       'personal_loan_closed', 'vehicle_loan_closed', 'investment_1',\n",
    "       'investment_2', 'investment_3', 'investment_4', 'debit_amount_apr',\n",
    "       'credit_amount_apr', 'debit_count_apr', 'credit_count_apr',\n",
    "       'max_credit_amount_apr', 'debit_amount_may']].head(3)"
   ]
  },
  {
   "cell_type": "code",
   "execution_count": 15,
   "id": "f3fabba1-f545-4bda-aab2-0f33d38094a1",
   "metadata": {},
   "outputs": [
    {
     "name": "stdout",
     "output_type": "stream",
     "text": [
      "<class 'pandas.core.frame.DataFrame'>\n",
      "RangeIndex: 20000 entries, 0 to 19999\n",
      "Data columns (total 39 columns):\n",
      " #   Column                 Non-Null Count  Dtype  \n",
      "---  ------                 --------------  -----  \n",
      " 0   ID                     20000 non-null  int64  \n",
      " 1   cc_cons_apr            20000 non-null  float64\n",
      " 2   dc_cons_apr            20000 non-null  float64\n",
      " 3   cc_cons_may            19999 non-null  float64\n",
      " 4   dc_cons_may            19999 non-null  float64\n",
      " 5   cc_cons_jun            20000 non-null  float64\n",
      " 6   dc_cons_jun            19999 non-null  float64\n",
      " 7   cc_count_apr           19999 non-null  float64\n",
      " 8   cc_count_may           20000 non-null  int64  \n",
      " 9   cc_count_jun           20000 non-null  int64  \n",
      " 10  dc_count_apr           20000 non-null  int64  \n",
      " 11  dc_count_may           20000 non-null  int64  \n",
      " 12  dc_count_jun           20000 non-null  int64  \n",
      " 13  card_lim               20000 non-null  int64  \n",
      " 14  personal_loan_active   20000 non-null  int64  \n",
      " 15  vehicle_loan_active    20000 non-null  int64  \n",
      " 16  personal_loan_closed   19999 non-null  float64\n",
      " 17  vehicle_loan_closed    20000 non-null  int64  \n",
      " 18  investment_1           20000 non-null  float64\n",
      " 19  investment_2           20000 non-null  float64\n",
      " 20  investment_3           19998 non-null  float64\n",
      " 21  investment_4           20000 non-null  float64\n",
      " 22  debit_amount_apr       20000 non-null  float64\n",
      " 23  credit_amount_apr      20000 non-null  float64\n",
      " 24  debit_count_apr        19999 non-null  float64\n",
      " 25  credit_count_apr       20000 non-null  int64  \n",
      " 26  max_credit_amount_apr  20000 non-null  float64\n",
      " 27  debit_amount_may       20000 non-null  float64\n",
      " 28  credit_amount_may      20000 non-null  float64\n",
      " 29  credit_count_may       20000 non-null  int64  \n",
      " 30  debit_count_may        20000 non-null  int64  \n",
      " 31  max_credit_amount_may  20000 non-null  float64\n",
      " 32  debit_amount_jun       20000 non-null  float64\n",
      " 33  credit_amount_jun      20000 non-null  float64\n",
      " 34  credit_count_jun       20000 non-null  int64  \n",
      " 35  debit_count_jun        20000 non-null  int64  \n",
      " 36  max_credit_amount_jun  20000 non-null  float64\n",
      " 37  loan_enq               19998 non-null  object \n",
      " 38  emi_active             19999 non-null  float64\n",
      "dtypes: float64(23), int64(15), object(1)\n",
      "memory usage: 6.0+ MB\n"
     ]
    }
   ],
   "source": [
    "customerBehavior.info()"
   ]
  },
  {
   "cell_type": "markdown",
   "id": "248c9e7d-9bdc-405a-883d-94defd6f2b05",
   "metadata": {},
   "source": [
    "## Checking For Null Values"
   ]
  },
  {
   "cell_type": "code",
   "execution_count": 16,
   "id": "ce69679a-5773-4c19-8b3c-ff4d206cb75f",
   "metadata": {},
   "outputs": [
    {
     "name": "stdout",
     "output_type": "stream",
     "text": [
      "Missing Values in Credit Consumption:\n",
      " ID            0\n",
      "cc_cons    5000\n",
      "dtype: int64 \n",
      "\n",
      "Missing Values in Customer Behavior:\n",
      " ID                       0\n",
      "cc_cons_apr              0\n",
      "dc_cons_apr              0\n",
      "cc_cons_may              1\n",
      "dc_cons_may              1\n",
      "cc_cons_jun              0\n",
      "dc_cons_jun              1\n",
      "cc_count_apr             1\n",
      "cc_count_may             0\n",
      "cc_count_jun             0\n",
      "dc_count_apr             0\n",
      "dc_count_may             0\n",
      "dc_count_jun             0\n",
      "card_lim                 0\n",
      "personal_loan_active     0\n",
      "vehicle_loan_active      0\n",
      "personal_loan_closed     1\n",
      "vehicle_loan_closed      0\n",
      "investment_1             0\n",
      "investment_2             0\n",
      "investment_3             2\n",
      "investment_4             0\n",
      "debit_amount_apr         0\n",
      "credit_amount_apr        0\n",
      "debit_count_apr          1\n",
      "credit_count_apr         0\n",
      "max_credit_amount_apr    0\n",
      "debit_amount_may         0\n",
      "credit_amount_may        0\n",
      "credit_count_may         0\n",
      "debit_count_may          0\n",
      "max_credit_amount_may    0\n",
      "debit_amount_jun         0\n",
      "credit_amount_jun        0\n",
      "credit_count_jun         0\n",
      "debit_count_jun          0\n",
      "max_credit_amount_jun    0\n",
      "loan_enq                 2\n",
      "emi_active               1\n",
      "dtype: int64 \n",
      "\n",
      "Missing Values in Customer Demographics:\n",
      " ID                              0\n",
      "account_type                    0\n",
      "gender                          0\n",
      "age                             0\n",
      "Income                          0\n",
      "Emp_Tenure_Years                0\n",
      "Tenure_with_Bank                0\n",
      "region_code                     0\n",
      "NetBanking_Flag                 0\n",
      "Avg_days_between_transaction    0\n",
      "dtype: int64 \n",
      "\n"
     ]
    }
   ],
   "source": [
    "print(\"Missing Values in Credit Consumption:\\n\", creditConsumption.isnull().sum(), \"\\n\")\n",
    "print(\"Missing Values in Customer Behavior:\\n\", customerBehavior.isnull().sum(), \"\\n\")\n",
    "print(\"Missing Values in Customer Demographics:\\n\", customer.isnull().sum(), \"\\n\")"
   ]
  },
  {
   "cell_type": "code",
   "execution_count": 17,
   "id": "560fc384-2796-4413-8844-64cbff472999",
   "metadata": {},
   "outputs": [],
   "source": [
    "customerBehavior.dropna(inplace=True)"
   ]
  },
  {
   "cell_type": "markdown",
   "id": "d231d427-22b4-4c57-b446-b3d79c4fa556",
   "metadata": {},
   "source": [
    "## Preparing The Dataset"
   ]
  },
  {
   "cell_type": "code",
   "execution_count": 18,
   "id": "db5251e6-b16c-4501-9e29-1d883366133a",
   "metadata": {},
   "outputs": [],
   "source": [
    "merged_df = customerBehavior.merge(customer,on='ID',how='inner')"
   ]
  },
  {
   "cell_type": "code",
   "execution_count": 19,
   "id": "4cd05653-b193-44fd-8a7a-465b51a21089",
   "metadata": {},
   "outputs": [],
   "source": [
    "merged_df = merged_df.merge(creditConsumption,on='ID',how='inner')"
   ]
  },
  {
   "cell_type": "code",
   "execution_count": 21,
   "id": "d4f4795e-3c86-410a-a09f-6786e235857e",
   "metadata": {},
   "outputs": [
    {
     "data": {
      "text/html": [
       "<div>\n",
       "<style scoped>\n",
       "    .dataframe tbody tr th:only-of-type {\n",
       "        vertical-align: middle;\n",
       "    }\n",
       "\n",
       "    .dataframe tbody tr th {\n",
       "        vertical-align: top;\n",
       "    }\n",
       "\n",
       "    .dataframe thead th {\n",
       "        text-align: right;\n",
       "    }\n",
       "</style>\n",
       "<table border=\"1\" class=\"dataframe\">\n",
       "  <thead>\n",
       "    <tr style=\"text-align: right;\">\n",
       "      <th></th>\n",
       "      <th>ID</th>\n",
       "      <th>cc_cons_apr</th>\n",
       "      <th>dc_cons_apr</th>\n",
       "      <th>cc_cons_may</th>\n",
       "      <th>dc_cons_may</th>\n",
       "      <th>cc_cons_jun</th>\n",
       "      <th>dc_cons_jun</th>\n",
       "      <th>cc_count_apr</th>\n",
       "      <th>cc_count_may</th>\n",
       "      <th>cc_count_jun</th>\n",
       "      <th>...</th>\n",
       "      <th>account_type</th>\n",
       "      <th>gender</th>\n",
       "      <th>age</th>\n",
       "      <th>Income</th>\n",
       "      <th>Emp_Tenure_Years</th>\n",
       "      <th>Tenure_with_Bank</th>\n",
       "      <th>region_code</th>\n",
       "      <th>NetBanking_Flag</th>\n",
       "      <th>Avg_days_between_transaction</th>\n",
       "      <th>cc_cons</th>\n",
       "    </tr>\n",
       "  </thead>\n",
       "  <tbody>\n",
       "    <tr>\n",
       "      <th>0</th>\n",
       "      <td>17051</td>\n",
       "      <td>2017.46</td>\n",
       "      <td>29066.66</td>\n",
       "      <td>15919.84</td>\n",
       "      <td>2197.00</td>\n",
       "      <td>3752.000</td>\n",
       "      <td>29798.00</td>\n",
       "      <td>1.0</td>\n",
       "      <td>4</td>\n",
       "      <td>35</td>\n",
       "      <td>...</td>\n",
       "      <td>current</td>\n",
       "      <td>M</td>\n",
       "      <td>30</td>\n",
       "      <td>MEDIUM</td>\n",
       "      <td>26.4</td>\n",
       "      <td>9</td>\n",
       "      <td>9</td>\n",
       "      <td>355</td>\n",
       "      <td>0</td>\n",
       "      <td>16239.0</td>\n",
       "    </tr>\n",
       "    <tr>\n",
       "      <th>1</th>\n",
       "      <td>11491</td>\n",
       "      <td>7687.00</td>\n",
       "      <td>1308.00</td>\n",
       "      <td>41888.92</td>\n",
       "      <td>2216.92</td>\n",
       "      <td>7060.530</td>\n",
       "      <td>3143.36</td>\n",
       "      <td>2.0</td>\n",
       "      <td>27</td>\n",
       "      <td>50</td>\n",
       "      <td>...</td>\n",
       "      <td>current</td>\n",
       "      <td>M</td>\n",
       "      <td>37</td>\n",
       "      <td>LOW</td>\n",
       "      <td>14.4</td>\n",
       "      <td>7</td>\n",
       "      <td>7</td>\n",
       "      <td>485</td>\n",
       "      <td>0</td>\n",
       "      <td>39002.0</td>\n",
       "    </tr>\n",
       "    <tr>\n",
       "      <th>2</th>\n",
       "      <td>7433</td>\n",
       "      <td>9094.46</td>\n",
       "      <td>14825.95</td>\n",
       "      <td>3087.64</td>\n",
       "      <td>769.59</td>\n",
       "      <td>25602.595</td>\n",
       "      <td>1445.00</td>\n",
       "      <td>44.0</td>\n",
       "      <td>8</td>\n",
       "      <td>47</td>\n",
       "      <td>...</td>\n",
       "      <td>current</td>\n",
       "      <td>M</td>\n",
       "      <td>33</td>\n",
       "      <td>MEDIUM</td>\n",
       "      <td>3.2</td>\n",
       "      <td>1</td>\n",
       "      <td>1</td>\n",
       "      <td>764</td>\n",
       "      <td>0</td>\n",
       "      <td>21182.0</td>\n",
       "    </tr>\n",
       "  </tbody>\n",
       "</table>\n",
       "<p>3 rows × 49 columns</p>\n",
       "</div>"
      ],
      "text/plain": [
       "      ID  cc_cons_apr  dc_cons_apr  cc_cons_may  dc_cons_may  cc_cons_jun  \\\n",
       "0  17051      2017.46     29066.66     15919.84      2197.00     3752.000   \n",
       "1  11491      7687.00      1308.00     41888.92      2216.92     7060.530   \n",
       "2   7433      9094.46     14825.95      3087.64       769.59    25602.595   \n",
       "\n",
       "   dc_cons_jun  cc_count_apr  cc_count_may  cc_count_jun  ...  account_type  \\\n",
       "0     29798.00           1.0             4            35  ...       current   \n",
       "1      3143.36           2.0            27            50  ...       current   \n",
       "2      1445.00          44.0             8            47  ...       current   \n",
       "\n",
       "   gender  age  Income  Emp_Tenure_Years  Tenure_with_Bank  region_code  \\\n",
       "0       M   30  MEDIUM              26.4                 9            9   \n",
       "1       M   37     LOW              14.4                 7            7   \n",
       "2       M   33  MEDIUM               3.2                 1            1   \n",
       "\n",
       "   NetBanking_Flag  Avg_days_between_transaction  cc_cons  \n",
       "0              355                             0  16239.0  \n",
       "1              485                             0  39002.0  \n",
       "2              764                             0  21182.0  \n",
       "\n",
       "[3 rows x 49 columns]"
      ]
     },
     "execution_count": 21,
     "metadata": {},
     "output_type": "execute_result"
    }
   ],
   "source": [
    "merged_df.head(3)"
   ]
  },
  {
   "cell_type": "code",
   "execution_count": 22,
   "id": "e1f658bd-ab8e-422e-b2a7-e459d97fda81",
   "metadata": {},
   "outputs": [
    {
     "data": {
      "text/plain": [
       "(19991, 49)"
      ]
     },
     "execution_count": 22,
     "metadata": {},
     "output_type": "execute_result"
    }
   ],
   "source": [
    "merged_df.shape"
   ]
  },
  {
   "cell_type": "code",
   "execution_count": 23,
   "id": "075be32f-3bbe-4838-b2f9-11c05e3287e7",
   "metadata": {},
   "outputs": [],
   "source": [
    "test_df = merged_df[merged_df['cc_cons'].isnull()]\n",
    "test_df.reset_index(drop=True,inplace=True)"
   ]
  },
  {
   "cell_type": "code",
   "execution_count": 24,
   "id": "52883157-8ed7-4f4b-a1ed-ab1e0dce6506",
   "metadata": {},
   "outputs": [],
   "source": [
    "test_df.to_csv('test_file.csv',index=False)"
   ]
  },
  {
   "cell_type": "code",
   "execution_count": 25,
   "id": "9371e2aa-4ed6-46aa-81bd-098e312b67f3",
   "metadata": {},
   "outputs": [],
   "source": [
    "merged_df = merged_df[~merged_df['cc_cons'].isnull()]"
   ]
  },
  {
   "cell_type": "code",
   "execution_count": 26,
   "id": "48feabb7-ee34-41aa-b4df-61c376e99947",
   "metadata": {},
   "outputs": [
    {
     "data": {
      "text/plain": [
       "((14993, 49), (4998, 49))"
      ]
     },
     "execution_count": 26,
     "metadata": {},
     "output_type": "execute_result"
    }
   ],
   "source": [
    "merged_df.shape,test_df.shape"
   ]
  },
  {
   "cell_type": "markdown",
   "id": "6ca7013d-7188-4055-9ce7-248e5fe45c5f",
   "metadata": {},
   "source": [
    "## Exploratory Data Analysis"
   ]
  },
  {
   "cell_type": "code",
   "execution_count": 27,
   "id": "6696294c-7615-47cf-9eeb-48612eca767c",
   "metadata": {},
   "outputs": [
    {
     "data": {
      "text/html": [
       "<div>\n",
       "<style scoped>\n",
       "    .dataframe tbody tr th:only-of-type {\n",
       "        vertical-align: middle;\n",
       "    }\n",
       "\n",
       "    .dataframe tbody tr th {\n",
       "        vertical-align: top;\n",
       "    }\n",
       "\n",
       "    .dataframe thead th {\n",
       "        text-align: right;\n",
       "    }\n",
       "</style>\n",
       "<table border=\"1\" class=\"dataframe\">\n",
       "  <thead>\n",
       "    <tr style=\"text-align: right;\">\n",
       "      <th></th>\n",
       "      <th>ID</th>\n",
       "      <th>cc_cons_apr</th>\n",
       "      <th>dc_cons_apr</th>\n",
       "      <th>cc_cons_may</th>\n",
       "      <th>dc_cons_may</th>\n",
       "      <th>cc_cons_jun</th>\n",
       "      <th>dc_cons_jun</th>\n",
       "      <th>cc_count_apr</th>\n",
       "      <th>cc_count_may</th>\n",
       "      <th>cc_count_jun</th>\n",
       "      <th>...</th>\n",
       "      <th>debit_count_jun</th>\n",
       "      <th>max_credit_amount_jun</th>\n",
       "      <th>emi_active</th>\n",
       "      <th>age</th>\n",
       "      <th>Emp_Tenure_Years</th>\n",
       "      <th>Tenure_with_Bank</th>\n",
       "      <th>region_code</th>\n",
       "      <th>NetBanking_Flag</th>\n",
       "      <th>Avg_days_between_transaction</th>\n",
       "      <th>cc_cons</th>\n",
       "    </tr>\n",
       "  </thead>\n",
       "  <tbody>\n",
       "    <tr>\n",
       "      <th>count</th>\n",
       "      <td>14993.000000</td>\n",
       "      <td>14993.000000</td>\n",
       "      <td>14993.000000</td>\n",
       "      <td>1.499300e+04</td>\n",
       "      <td>14993.000000</td>\n",
       "      <td>14993.000000</td>\n",
       "      <td>14993.000000</td>\n",
       "      <td>14993.000000</td>\n",
       "      <td>14993.00000</td>\n",
       "      <td>14993.000000</td>\n",
       "      <td>...</td>\n",
       "      <td>14993.000000</td>\n",
       "      <td>1.499300e+04</td>\n",
       "      <td>1.499300e+04</td>\n",
       "      <td>14993.000000</td>\n",
       "      <td>14993.000000</td>\n",
       "      <td>14993.000000</td>\n",
       "      <td>14993.000000</td>\n",
       "      <td>14993.000000</td>\n",
       "      <td>14993.000000</td>\n",
       "      <td>14993.000000</td>\n",
       "    </tr>\n",
       "    <tr>\n",
       "      <th>mean</th>\n",
       "      <td>10032.206230</td>\n",
       "      <td>17961.834649</td>\n",
       "      <td>8168.237205</td>\n",
       "      <td>1.633949e+04</td>\n",
       "      <td>7704.676979</td>\n",
       "      <td>12129.386670</td>\n",
       "      <td>7099.351901</td>\n",
       "      <td>41.500700</td>\n",
       "      <td>33.48516</td>\n",
       "      <td>41.506103</td>\n",
       "      <td>...</td>\n",
       "      <td>44.647969</td>\n",
       "      <td>5.257668e+04</td>\n",
       "      <td>1.575568e+04</td>\n",
       "      <td>47.766624</td>\n",
       "      <td>15.185073</td>\n",
       "      <td>5.510438</td>\n",
       "      <td>5.510438</td>\n",
       "      <td>598.397385</td>\n",
       "      <td>0.719602</td>\n",
       "      <td>9369.569257</td>\n",
       "    </tr>\n",
       "    <tr>\n",
       "      <th>std</th>\n",
       "      <td>5761.048272</td>\n",
       "      <td>25192.717712</td>\n",
       "      <td>14769.893627</td>\n",
       "      <td>2.706671e+04</td>\n",
       "      <td>18991.347323</td>\n",
       "      <td>18491.427033</td>\n",
       "      <td>13254.450825</td>\n",
       "      <td>97.453103</td>\n",
       "      <td>49.54702</td>\n",
       "      <td>47.350281</td>\n",
       "      <td>...</td>\n",
       "      <td>35.088853</td>\n",
       "      <td>1.282776e+05</td>\n",
       "      <td>1.179405e+05</td>\n",
       "      <td>30.573014</td>\n",
       "      <td>20.316444</td>\n",
       "      <td>2.866058</td>\n",
       "      <td>2.866058</td>\n",
       "      <td>220.085924</td>\n",
       "      <td>0.449208</td>\n",
       "      <td>7554.028948</td>\n",
       "    </tr>\n",
       "    <tr>\n",
       "      <th>min</th>\n",
       "      <td>1.000000</td>\n",
       "      <td>253.000000</td>\n",
       "      <td>19.350000</td>\n",
       "      <td>1.570000e+02</td>\n",
       "      <td>22.000000</td>\n",
       "      <td>65.000000</td>\n",
       "      <td>62.000000</td>\n",
       "      <td>1.000000</td>\n",
       "      <td>1.00000</td>\n",
       "      <td>1.000000</td>\n",
       "      <td>...</td>\n",
       "      <td>0.000000</td>\n",
       "      <td>6.000000e-02</td>\n",
       "      <td>0.000000e+00</td>\n",
       "      <td>25.000000</td>\n",
       "      <td>0.500000</td>\n",
       "      <td>1.000000</td>\n",
       "      <td>1.000000</td>\n",
       "      <td>123.000000</td>\n",
       "      <td>0.000000</td>\n",
       "      <td>610.099000</td>\n",
       "    </tr>\n",
       "    <tr>\n",
       "      <th>25%</th>\n",
       "      <td>5059.000000</td>\n",
       "      <td>4411.220000</td>\n",
       "      <td>1634.000000</td>\n",
       "      <td>3.638000e+03</td>\n",
       "      <td>1643.500000</td>\n",
       "      <td>3004.500000</td>\n",
       "      <td>1358.000000</td>\n",
       "      <td>5.000000</td>\n",
       "      <td>8.00000</td>\n",
       "      <td>10.000000</td>\n",
       "      <td>...</td>\n",
       "      <td>12.000000</td>\n",
       "      <td>1.903800e+04</td>\n",
       "      <td>1.548510e+03</td>\n",
       "      <td>33.000000</td>\n",
       "      <td>5.100000</td>\n",
       "      <td>3.000000</td>\n",
       "      <td>3.000000</td>\n",
       "      <td>424.000000</td>\n",
       "      <td>0.000000</td>\n",
       "      <td>4808.670000</td>\n",
       "    </tr>\n",
       "    <tr>\n",
       "      <th>50%</th>\n",
       "      <td>10053.000000</td>\n",
       "      <td>10288.100000</td>\n",
       "      <td>3994.800000</td>\n",
       "      <td>8.690170e+03</td>\n",
       "      <td>3820.000000</td>\n",
       "      <td>6655.250000</td>\n",
       "      <td>3327.000000</td>\n",
       "      <td>10.000000</td>\n",
       "      <td>23.00000</td>\n",
       "      <td>35.000000</td>\n",
       "      <td>...</td>\n",
       "      <td>38.000000</td>\n",
       "      <td>3.042500e+04</td>\n",
       "      <td>3.953580e+03</td>\n",
       "      <td>40.000000</td>\n",
       "      <td>9.900000</td>\n",
       "      <td>6.000000</td>\n",
       "      <td>6.000000</td>\n",
       "      <td>623.000000</td>\n",
       "      <td>1.000000</td>\n",
       "      <td>7409.948800</td>\n",
       "    </tr>\n",
       "    <tr>\n",
       "      <th>75%</th>\n",
       "      <td>15016.000000</td>\n",
       "      <td>21410.250000</td>\n",
       "      <td>9339.020000</td>\n",
       "      <td>1.895130e+04</td>\n",
       "      <td>8212.000000</td>\n",
       "      <td>14247.000000</td>\n",
       "      <td>7597.000000</td>\n",
       "      <td>44.000000</td>\n",
       "      <td>43.00000</td>\n",
       "      <td>61.000000</td>\n",
       "      <td>...</td>\n",
       "      <td>73.000000</td>\n",
       "      <td>5.320200e+04</td>\n",
       "      <td>9.372410e+03</td>\n",
       "      <td>53.000000</td>\n",
       "      <td>18.000000</td>\n",
       "      <td>8.000000</td>\n",
       "      <td>8.000000</td>\n",
       "      <td>799.000000</td>\n",
       "      <td>1.000000</td>\n",
       "      <td>11518.657600</td>\n",
       "    </tr>\n",
       "    <tr>\n",
       "      <th>max</th>\n",
       "      <td>19998.000000</td>\n",
       "      <td>441031.330000</td>\n",
       "      <td>229255.000000</td>\n",
       "      <td>1.117246e+06</td>\n",
       "      <td>911223.490000</td>\n",
       "      <td>382914.100000</td>\n",
       "      <td>233384.000000</td>\n",
       "      <td>531.000000</td>\n",
       "      <td>601.00000</td>\n",
       "      <td>653.000000</td>\n",
       "      <td>...</td>\n",
       "      <td>133.000000</td>\n",
       "      <td>5.200000e+06</td>\n",
       "      <td>7.447125e+06</td>\n",
       "      <td>223.000000</td>\n",
       "      <td>203.000000</td>\n",
       "      <td>10.000000</td>\n",
       "      <td>10.000000</td>\n",
       "      <td>974.000000</td>\n",
       "      <td>1.000000</td>\n",
       "      <td>160735.934800</td>\n",
       "    </tr>\n",
       "  </tbody>\n",
       "</table>\n",
       "<p>8 rows × 45 columns</p>\n",
       "</div>"
      ],
      "text/plain": [
       "                 ID    cc_cons_apr    dc_cons_apr   cc_cons_may  \\\n",
       "count  14993.000000   14993.000000   14993.000000  1.499300e+04   \n",
       "mean   10032.206230   17961.834649    8168.237205  1.633949e+04   \n",
       "std     5761.048272   25192.717712   14769.893627  2.706671e+04   \n",
       "min        1.000000     253.000000      19.350000  1.570000e+02   \n",
       "25%     5059.000000    4411.220000    1634.000000  3.638000e+03   \n",
       "50%    10053.000000   10288.100000    3994.800000  8.690170e+03   \n",
       "75%    15016.000000   21410.250000    9339.020000  1.895130e+04   \n",
       "max    19998.000000  441031.330000  229255.000000  1.117246e+06   \n",
       "\n",
       "         dc_cons_may    cc_cons_jun    dc_cons_jun  cc_count_apr  \\\n",
       "count   14993.000000   14993.000000   14993.000000  14993.000000   \n",
       "mean     7704.676979   12129.386670    7099.351901     41.500700   \n",
       "std     18991.347323   18491.427033   13254.450825     97.453103   \n",
       "min        22.000000      65.000000      62.000000      1.000000   \n",
       "25%      1643.500000    3004.500000    1358.000000      5.000000   \n",
       "50%      3820.000000    6655.250000    3327.000000     10.000000   \n",
       "75%      8212.000000   14247.000000    7597.000000     44.000000   \n",
       "max    911223.490000  382914.100000  233384.000000    531.000000   \n",
       "\n",
       "       cc_count_may  cc_count_jun  ...  debit_count_jun  \\\n",
       "count   14993.00000  14993.000000  ...     14993.000000   \n",
       "mean       33.48516     41.506103  ...        44.647969   \n",
       "std        49.54702     47.350281  ...        35.088853   \n",
       "min         1.00000      1.000000  ...         0.000000   \n",
       "25%         8.00000     10.000000  ...        12.000000   \n",
       "50%        23.00000     35.000000  ...        38.000000   \n",
       "75%        43.00000     61.000000  ...        73.000000   \n",
       "max       601.00000    653.000000  ...       133.000000   \n",
       "\n",
       "       max_credit_amount_jun    emi_active           age  Emp_Tenure_Years  \\\n",
       "count           1.499300e+04  1.499300e+04  14993.000000      14993.000000   \n",
       "mean            5.257668e+04  1.575568e+04     47.766624         15.185073   \n",
       "std             1.282776e+05  1.179405e+05     30.573014         20.316444   \n",
       "min             6.000000e-02  0.000000e+00     25.000000          0.500000   \n",
       "25%             1.903800e+04  1.548510e+03     33.000000          5.100000   \n",
       "50%             3.042500e+04  3.953580e+03     40.000000          9.900000   \n",
       "75%             5.320200e+04  9.372410e+03     53.000000         18.000000   \n",
       "max             5.200000e+06  7.447125e+06    223.000000        203.000000   \n",
       "\n",
       "       Tenure_with_Bank   region_code  NetBanking_Flag  \\\n",
       "count      14993.000000  14993.000000     14993.000000   \n",
       "mean           5.510438      5.510438       598.397385   \n",
       "std            2.866058      2.866058       220.085924   \n",
       "min            1.000000      1.000000       123.000000   \n",
       "25%            3.000000      3.000000       424.000000   \n",
       "50%            6.000000      6.000000       623.000000   \n",
       "75%            8.000000      8.000000       799.000000   \n",
       "max           10.000000     10.000000       974.000000   \n",
       "\n",
       "       Avg_days_between_transaction        cc_cons  \n",
       "count                  14993.000000   14993.000000  \n",
       "mean                       0.719602    9369.569257  \n",
       "std                        0.449208    7554.028948  \n",
       "min                        0.000000     610.099000  \n",
       "25%                        0.000000    4808.670000  \n",
       "50%                        1.000000    7409.948800  \n",
       "75%                        1.000000   11518.657600  \n",
       "max                        1.000000  160735.934800  \n",
       "\n",
       "[8 rows x 45 columns]"
      ]
     },
     "execution_count": 27,
     "metadata": {},
     "output_type": "execute_result"
    }
   ],
   "source": [
    "merged_df.describe()"
   ]
  },
  {
   "cell_type": "code",
   "execution_count": 28,
   "id": "4d1de08f-eed3-4754-b4fa-3a19dc27ed20",
   "metadata": {},
   "outputs": [
    {
     "data": {
      "image/png": "[encoded data removed]",
      "text/plain": [
       "<Figure size 640x480 with 1 Axes>"
      ]
     },
     "metadata": {},
     "output_type": "display_data"
    }
   ],
   "source": [
    "sns.histplot(merged_df['cc_cons'],bins=30,kde=True)\n",
    "plt.show()"
   ]
  },
  {
   "cell_type": "markdown",
   "id": "eb43770d-3674-4516-ab20-24fa5a5b2c41",
   "metadata": {},
   "source": [
    "## Correlation Check"
   ]
  },
  {
   "cell_type": "code",
   "execution_count": 29,
   "id": "64888f7f-33e0-45c8-99ba-856c995a58d3",
   "metadata": {},
   "outputs": [],
   "source": [
    "corr_mat = merged_df.select_dtypes('number').corr()"
   ]
  },
  {
   "cell_type": "code",
   "execution_count": 30,
   "id": "b49e191c-d04e-4e33-be31-bc1088ec8bac",
   "metadata": {},
   "outputs": [
    {
     "data": {
      "image/png": "[encoded data removed]",
      "text/plain": [
       "<Figure size 640x480 with 2 Axes>"
      ]
     },
     "metadata": {},
     "output_type": "display_data"
    }
   ],
   "source": [
    "sns.heatmap(corr_mat,cmap='coolwarm')\n",
    "plt.show()"
   ]
  },
  {
   "cell_type": "markdown",
   "id": "a1f822ab-7d10-43ac-9a73-780815f8a1e9",
   "metadata": {},
   "source": [
    "## Handling Categorical Variables"
   ]
  },
  {
   "cell_type": "code",
   "execution_count": 31,
   "id": "924e2dc4-9c66-4372-86db-1fa11f235aa5",
   "metadata": {},
   "outputs": [],
   "source": [
    "from sklearn.preprocessing import LabelEncoder"
   ]
  },
  {
   "cell_type": "code",
   "execution_count": 32,
   "id": "f74239f1-3f5a-4b0c-87e1-ec4777514c20",
   "metadata": {},
   "outputs": [],
   "source": [
    "for col in ['loan_enq', 'account_type', 'gender', 'Income']:\n",
    "    merged_df[col] = merged_df[col].astype('str')"
   ]
  },
  {
   "cell_type": "code",
   "execution_count": 33,
   "id": "e9a626db-1aad-48de-85eb-7ba77c810ea1",
   "metadata": {},
   "outputs": [
    {
     "name": "stdout",
     "output_type": "stream",
     "text": [
      "{'Y': 0, 'current': 0, 'saving': 1, 'F': 0, 'M': 1, 'HIGH': 0, 'LOW': 1, 'MEDIUM': 2}\n"
     ]
    }
   ],
   "source": [
    "cat_col = ['loan_enq', 'account_type', 'gender', 'Income']\n",
    "mapping_dict = {}\n",
    "for col in cat_col:\n",
    "    le = LabelEncoder()\n",
    "    merged_df[col] = le.fit_transform(merged_df[col])\n",
    "    temp_dict = dict(zip(le.classes_,sorted(merged_df[col].unique())))\n",
    "    mapping_dict.update(temp_dict)\n",
    "print(mapping_dict)"
   ]
  },
  {
   "cell_type": "code",
   "execution_count": 34,
   "id": "1ecb5cee-6fc7-4c96-b559-274d5657af53",
   "metadata": {},
   "outputs": [],
   "source": [
    "encode_df = pd.DataFrame(mapping_dict.items(),columns=['id','value']) "
   ]
  },
  {
   "cell_type": "code",
   "execution_count": 35,
   "id": "c38a6733-1d76-4076-85c5-e15ce54869b6",
   "metadata": {},
   "outputs": [],
   "source": [
    "encode_df.to_csv('mapping_dict_capstoneproject.csv',index=False)"
   ]
  },
  {
   "cell_type": "markdown",
   "id": "5bdfec18-57f5-46cc-b167-947f1adf4c69",
   "metadata": {},
   "source": [
    "## Standardization"
   ]
  },
  {
   "cell_type": "code",
   "execution_count": 36,
   "id": "141d826c-6a32-407e-a0f2-7da8df4476ea",
   "metadata": {},
   "outputs": [],
   "source": [
    "from sklearn.preprocessing import StandardScaler"
   ]
  },
  {
   "cell_type": "code",
   "execution_count": 37,
   "id": "9ac3f229-0aef-4f39-841b-f1c0e8938c02",
   "metadata": {},
   "outputs": [
    {
     "data": {
      "text/plain": [
       "Index(['ID', 'cc_cons_apr', 'dc_cons_apr', 'cc_cons_may', 'dc_cons_may',\n",
       "       'cc_cons_jun', 'dc_cons_jun', 'cc_count_apr', 'cc_count_may',\n",
       "       'cc_count_jun', 'dc_count_apr', 'dc_count_may', 'dc_count_jun',\n",
       "       'card_lim', 'personal_loan_active', 'vehicle_loan_active',\n",
       "       'personal_loan_closed', 'vehicle_loan_closed', 'investment_1',\n",
       "       'investment_2', 'investment_3', 'investment_4', 'debit_amount_apr',\n",
       "       'credit_amount_apr', 'debit_count_apr', 'credit_count_apr',\n",
       "       'max_credit_amount_apr', 'debit_amount_may', 'credit_amount_may',\n",
       "       'credit_count_may', 'debit_count_may', 'max_credit_amount_may',\n",
       "       'debit_amount_jun', 'credit_amount_jun', 'credit_count_jun',\n",
       "       'debit_count_jun', 'max_credit_amount_jun', 'loan_enq', 'emi_active',\n",
       "       'account_type', 'gender', 'age', 'Income', 'Emp_Tenure_Years',\n",
       "       'Tenure_with_Bank', 'region_code', 'NetBanking_Flag',\n",
       "       'Avg_days_between_transaction', 'cc_cons'],\n",
       "      dtype='object')"
      ]
     },
     "execution_count": 37,
     "metadata": {},
     "output_type": "execute_result"
    }
   ],
   "source": [
    "merged_df.columns"
   ]
  },
  {
   "cell_type": "code",
   "execution_count": 38,
   "id": "d9780385-8a19-498e-a38c-1a243d4f6d19",
   "metadata": {},
   "outputs": [],
   "source": [
    "x = merged_df.iloc[:,:-1]\n",
    "y = merged_df.iloc[:,-1]"
   ]
  },
  {
   "cell_type": "code",
   "execution_count": 39,
   "id": "ba554b77-502b-4deb-9436-d872ec5e4ba5",
   "metadata": {},
   "outputs": [
    {
     "data": {
      "text/html": [
       "<div>\n",
       "<style scoped>\n",
       "    .dataframe tbody tr th:only-of-type {\n",
       "        vertical-align: middle;\n",
       "    }\n",
       "\n",
       "    .dataframe tbody tr th {\n",
       "        vertical-align: top;\n",
       "    }\n",
       "\n",
       "    .dataframe thead th {\n",
       "        text-align: right;\n",
       "    }\n",
       "</style>\n",
       "<table border=\"1\" class=\"dataframe\">\n",
       "  <thead>\n",
       "    <tr style=\"text-align: right;\">\n",
       "      <th></th>\n",
       "      <th>0</th>\n",
       "      <th>1</th>\n",
       "      <th>2</th>\n",
       "      <th>3</th>\n",
       "      <th>4</th>\n",
       "      <th>5</th>\n",
       "      <th>6</th>\n",
       "      <th>7</th>\n",
       "      <th>8</th>\n",
       "      <th>9</th>\n",
       "      <th>...</th>\n",
       "      <th>38</th>\n",
       "      <th>39</th>\n",
       "      <th>40</th>\n",
       "      <th>41</th>\n",
       "      <th>42</th>\n",
       "      <th>43</th>\n",
       "      <th>44</th>\n",
       "      <th>45</th>\n",
       "      <th>46</th>\n",
       "      <th>47</th>\n",
       "    </tr>\n",
       "  </thead>\n",
       "  <tbody>\n",
       "    <tr>\n",
       "      <th>0</th>\n",
       "      <td>1.218359</td>\n",
       "      <td>-0.632917</td>\n",
       "      <td>1.414981</td>\n",
       "      <td>-0.015505</td>\n",
       "      <td>-0.290019</td>\n",
       "      <td>-0.453057</td>\n",
       "      <td>1.712587</td>\n",
       "      <td>-0.415606</td>\n",
       "      <td>-0.595114</td>\n",
       "      <td>-0.137408</td>\n",
       "      <td>...</td>\n",
       "      <td>-0.104351</td>\n",
       "      <td>-0.422723</td>\n",
       "      <td>0.39854</td>\n",
       "      <td>-0.581141</td>\n",
       "      <td>0.689085</td>\n",
       "      <td>0.552031</td>\n",
       "      <td>1.217588</td>\n",
       "      <td>1.217588</td>\n",
       "      <td>-1.105957</td>\n",
       "      <td>-1.601988</td>\n",
       "    </tr>\n",
       "    <tr>\n",
       "      <th>1</th>\n",
       "      <td>0.253225</td>\n",
       "      <td>-0.407863</td>\n",
       "      <td>-0.464490</td>\n",
       "      <td>0.943974</td>\n",
       "      <td>-0.288971</td>\n",
       "      <td>-0.274128</td>\n",
       "      <td>-0.298475</td>\n",
       "      <td>-0.405344</td>\n",
       "      <td>-0.130893</td>\n",
       "      <td>0.179390</td>\n",
       "      <td>...</td>\n",
       "      <td>-0.101266</td>\n",
       "      <td>-0.422723</td>\n",
       "      <td>0.39854</td>\n",
       "      <td>-0.352173</td>\n",
       "      <td>-0.879853</td>\n",
       "      <td>-0.038644</td>\n",
       "      <td>0.519742</td>\n",
       "      <td>0.519742</td>\n",
       "      <td>-0.515259</td>\n",
       "      <td>-1.601988</td>\n",
       "    </tr>\n",
       "    <tr>\n",
       "      <th>2</th>\n",
       "      <td>-0.451184</td>\n",
       "      <td>-0.351993</td>\n",
       "      <td>0.450777</td>\n",
       "      <td>-0.489616</td>\n",
       "      <td>-0.365183</td>\n",
       "      <td>0.728643</td>\n",
       "      <td>-0.426614</td>\n",
       "      <td>0.025647</td>\n",
       "      <td>-0.514380</td>\n",
       "      <td>0.116031</td>\n",
       "      <td>...</td>\n",
       "      <td>-0.053612</td>\n",
       "      <td>-0.422723</td>\n",
       "      <td>0.39854</td>\n",
       "      <td>-0.483011</td>\n",
       "      <td>0.689085</td>\n",
       "      <td>-0.589939</td>\n",
       "      <td>-1.573795</td>\n",
       "      <td>-1.573795</td>\n",
       "      <td>0.752470</td>\n",
       "      <td>-1.601988</td>\n",
       "    </tr>\n",
       "  </tbody>\n",
       "</table>\n",
       "<p>3 rows × 48 columns</p>\n",
       "</div>"
      ],
      "text/plain": [
       "         0         1         2         3         4         5         6   \\\n",
       "0  1.218359 -0.632917  1.414981 -0.015505 -0.290019 -0.453057  1.712587   \n",
       "1  0.253225 -0.407863 -0.464490  0.943974 -0.288971 -0.274128 -0.298475   \n",
       "2 -0.451184 -0.351993  0.450777 -0.489616 -0.365183  0.728643 -0.426614   \n",
       "\n",
       "         7         8         9   ...        38        39       40        41  \\\n",
       "0 -0.415606 -0.595114 -0.137408  ... -0.104351 -0.422723  0.39854 -0.581141   \n",
       "1 -0.405344 -0.130893  0.179390  ... -0.101266 -0.422723  0.39854 -0.352173   \n",
       "2  0.025647 -0.514380  0.116031  ... -0.053612 -0.422723  0.39854 -0.483011   \n",
       "\n",
       "         42        43        44        45        46        47  \n",
       "0  0.689085  0.552031  1.217588  1.217588 -1.105957 -1.601988  \n",
       "1 -0.879853 -0.038644  0.519742  0.519742 -0.515259 -1.601988  \n",
       "2  0.689085 -0.589939 -1.573795 -1.573795  0.752470 -1.601988  \n",
       "\n",
       "[3 rows x 48 columns]"
      ]
     },
     "execution_count": 39,
     "metadata": {},
     "output_type": "execute_result"
    }
   ],
   "source": [
    "ss = StandardScaler()\n",
    "x_ft = ss.fit_transform(x)\n",
    "x_ft = pd.DataFrame(x_ft)\n",
    "x_ft.head(3)"
   ]
  },
  {
   "cell_type": "code",
   "execution_count": 40,
   "id": "e801fa04-2273-47fa-aea1-f582eea6bbd2",
   "metadata": {},
   "outputs": [],
   "source": [
    "import pickle\n",
    "with open('./standard_scaler.pkl','wb') as file:\n",
    "    pickle.dump(ss,file)"
   ]
  },
  {
   "cell_type": "markdown",
   "id": "855973a2-0dca-4c5c-91d9-2c877ad3c3c8",
   "metadata": {},
   "source": [
    "## Train Test Split"
   ]
  },
  {
   "cell_type": "code",
   "execution_count": 41,
   "id": "ab467cb1-4403-433d-9bbf-9a330a8df9c8",
   "metadata": {},
   "outputs": [],
   "source": [
    "from sklearn.model_selection import train_test_split"
   ]
  },
  {
   "cell_type": "code",
   "execution_count": 42,
   "id": "c5f5e37e-7a02-40e9-8349-67750ddcd47b",
   "metadata": {},
   "outputs": [],
   "source": [
    "xtrain,xtest,ytrain,ytest = train_test_split(x_ft,y,test_size=0.2,random_state=64)"
   ]
  },
  {
   "cell_type": "code",
   "execution_count": 43,
   "id": "db60aae0-02f2-4d68-8634-54466e51b923",
   "metadata": {},
   "outputs": [
    {
     "data": {
      "text/plain": [
       "((11994, 48), (2999, 48))"
      ]
     },
     "execution_count": 43,
     "metadata": {},
     "output_type": "execute_result"
    }
   ],
   "source": [
    "xtrain.shape,xtest.shape"
   ]
  },
  {
   "cell_type": "markdown",
   "id": "5058a21e-dff3-4153-949d-6484a1c0b68a",
   "metadata": {},
   "source": [
    "## Model Selection"
   ]
  },
  {
   "cell_type": "code",
   "execution_count": 45,
   "id": "2cb45946-239e-4a3e-897d-cfd7347d94ef",
   "metadata": {},
   "outputs": [],
   "source": [
    "from sklearn.linear_model import LinearRegression\n",
    "from sklearn.metrics import mean_squared_error"
   ]
  },
  {
   "cell_type": "code",
   "execution_count": 46,
   "id": "a8222d51-0be3-4c93-a9f7-e737d1a7f824",
   "metadata": {},
   "outputs": [],
   "source": [
    "lr = LinearRegression()\n",
    "lr.fit(xtrain,ytrain)\n",
    "pred = lr.predict(xtest)"
   ]
  },
  {
   "cell_type": "code",
   "execution_count": 69,
   "id": "38dce2b1-3234-4c46-ba7b-bcaab31bab52",
   "metadata": {},
   "outputs": [],
   "source": [
    "def get_rms_percentage_error(pred,ytest):\n",
    "    mse = mean_squared_error(pred,ytest)\n",
    "    rmse = np.sqrt(mse)\n",
    "    rms_percentage_error = (rmse/np.mean(ytest))*100\n",
    "    print(' RMSE :',rmse,'\\n','rms_percentage_error :',rms_percentage_error)"
   ]
  },
  {
   "cell_type": "code",
   "execution_count": 52,
   "id": "37cb5d22-8167-4ac6-ad8e-4cdfe507dadd",
   "metadata": {},
   "outputs": [
    {
     "name": "stdout",
     "output_type": "stream",
     "text": [
      " RMSE : 2546.4333625447803 \n",
      " rms_percentage_error : 27.75524134829302\n"
     ]
    }
   ],
   "source": [
    "get_rms_percentage_error(pred,ytest)"
   ]
  },
  {
   "cell_type": "code",
   "execution_count": 53,
   "id": "ed5ed842-7d76-4c77-82c7-3c2d9c2d14d0",
   "metadata": {},
   "outputs": [
    {
     "name": "stdout",
     "output_type": "stream",
     "text": [
      " RMSE : 2717.091699151083 \n",
      " rms_percentage_error : 28.849009625517635\n"
     ]
    }
   ],
   "source": [
    "train_pred = lr.predict(xtrain)\n",
    "get_rms_percentage_error(train_pred,ytrain)"
   ]
  },
  {
   "cell_type": "code",
   "execution_count": 56,
   "id": "0fcb4076-a162-4903-ad67-7857b7d02bbe",
   "metadata": {},
   "outputs": [],
   "source": [
    "from sklearn.tree import DecisionTreeRegressor"
   ]
  },
  {
   "cell_type": "code",
   "execution_count": 57,
   "id": "e413afbe-2d53-4174-9a8c-d3d87733e671",
   "metadata": {},
   "outputs": [
    {
     "name": "stdout",
     "output_type": "stream",
     "text": [
      " RMSE : 4078.90093123209 \n",
      " rms_percentage_error : 44.45860686846579\n"
     ]
    }
   ],
   "source": [
    "dtr = DecisionTreeRegressor()\n",
    "dtr.fit(xtrain,ytrain)\n",
    "dtr_pred = dtr.predict(xtest)\n",
    "get_rms_percentage_error(dtr_pred,ytest)"
   ]
  },
  {
   "cell_type": "code",
   "execution_count": 58,
   "id": "ca583690-e48b-45b6-9d42-e1dc7375f278",
   "metadata": {},
   "outputs": [
    {
     "name": "stdout",
     "output_type": "stream",
     "text": [
      " RMSE : 0.0 \n",
      " rms_percentage_error : 0.0\n"
     ]
    }
   ],
   "source": [
    "dtr_train_pred = dtr.predict(xtrain)\n",
    "get_rms_percentage_error(dtr_train_pred,ytrain)"
   ]
  },
  {
   "cell_type": "code",
   "execution_count": 59,
   "id": "3ffa940f-bbaf-4760-b042-a69b71091e53",
   "metadata": {},
   "outputs": [],
   "source": [
    "from sklearn.model_selection import GridSearchCV"
   ]
  },
  {
   "cell_type": "code",
   "execution_count": 60,
   "id": "b712a0f1-5539-4efd-bb8d-312f254893c8",
   "metadata": {},
   "outputs": [],
   "source": [
    "params = {\n",
    "    'max_depth':[2,3,4,5],\n",
    "    'min_samples_split':[20,30,40,50]\n",
    "}"
   ]
  },
  {
   "cell_type": "code",
   "execution_count": 61,
   "id": "8414f84b-2901-4cb0-b53c-96242cf6e60c",
   "metadata": {},
   "outputs": [
    {
     "name": "stdout",
     "output_type": "stream",
     "text": [
      " RMSE : 4772.405780471168 \n",
      " rms_percentage_error : 52.017569435468246\n"
     ]
    }
   ],
   "source": [
    "dt1 = DecisionTreeRegressor()\n",
    "gc = GridSearchCV(dt1,params)\n",
    "gc.fit(xtrain,ytrain)\n",
    "dt1_pred = gc.predict(xtest)\n",
    "get_rms_percentage_error(dt1_pred,ytest)"
   ]
  },
  {
   "cell_type": "code",
   "execution_count": 62,
   "id": "5d5a3865-e08e-49bd-b169-5de19f6dfd87",
   "metadata": {},
   "outputs": [
    {
     "name": "stdout",
     "output_type": "stream",
     "text": [
      " RMSE : 4478.309219543143 \n",
      " rms_percentage_error : 47.54892366018033\n"
     ]
    }
   ],
   "source": [
    "dt1_train_pred = gc.predict(xtrain)\n",
    "get_rms_percentage_error(dt1_train_pred,ytrain)"
   ]
  },
  {
   "cell_type": "code",
   "execution_count": 63,
   "id": "9820422c-f675-4a1d-bc5e-8d1dca0f4f03",
   "metadata": {},
   "outputs": [],
   "source": [
    "from sklearn.ensemble import RandomForestRegressor"
   ]
  },
  {
   "cell_type": "code",
   "execution_count": 64,
   "id": "2e8c7a23-872c-49e0-978e-48b07554cc36",
   "metadata": {},
   "outputs": [
    {
     "name": "stdout",
     "output_type": "stream",
     "text": [
      " RMSE : 3064.8175788083645 \n",
      " rms_percentage_error : 33.40544969270576\n"
     ]
    }
   ],
   "source": [
    "rgb = RandomForestRegressor()\n",
    "rgb.fit(xtrain,ytrain)\n",
    "rgb_pred = rgb.predict(xtest)\n",
    "get_rms_percentage_error(rgb_pred,ytest)"
   ]
  },
  {
   "cell_type": "code",
   "execution_count": 65,
   "id": "79a74bb6-8a85-4b91-a253-99ebbb8850b9",
   "metadata": {},
   "outputs": [
    {
     "name": "stdout",
     "output_type": "stream",
     "text": [
      " RMSE : 1232.5998358082934 \n",
      " rms_percentage_error : 13.087259638220864\n"
     ]
    }
   ],
   "source": [
    "rgb_train_pred = rgb.predict(xtrain)\n",
    "get_rms_percentage_error(rgb_train_pred,ytrain)"
   ]
  },
  {
   "cell_type": "code",
   "execution_count": 66,
   "id": "f86c847a-2618-4e22-95f9-38de9b783092",
   "metadata": {},
   "outputs": [],
   "source": [
    "from sklearn.ensemble import GradientBoostingRegressor"
   ]
  },
  {
   "cell_type": "code",
   "execution_count": 67,
   "id": "cb3d183a-20a0-4d10-b32c-747b2aaa50e6",
   "metadata": {},
   "outputs": [
    {
     "name": "stdout",
     "output_type": "stream",
     "text": [
      " RMSE : 2879.882749952569 \n",
      " rms_percentage_error : 31.389724135501986\n"
     ]
    }
   ],
   "source": [
    "gb = GradientBoostingRegressor()\n",
    "gb.fit(xtrain,ytrain)\n",
    "gb_pred = gb.predict(xtest)\n",
    "get_rms_percentage_error(gb_pred,ytest)"
   ]
  },
  {
   "cell_type": "code",
   "execution_count": 68,
   "id": "fcd89495-7998-4237-8be9-966996a594b0",
   "metadata": {},
   "outputs": [
    {
     "name": "stdout",
     "output_type": "stream",
     "text": [
      " RMSE : 2420.3251453117996 \n",
      " rms_percentage_error : 25.698059228475064\n"
     ]
    }
   ],
   "source": [
    "gb_train_pred = gb.predict(xtrain)\n",
    "get_rms_percentage_error(gb_train_pred,ytrain)"
   ]
  },
  {
   "cell_type": "markdown",
   "id": "c2e84d9f-8ceb-4307-8b66-0062675e8a9e",
   "metadata": {},
   "source": [
    "#### Best model working for our data is Linear Regression Model"
   ]
  },
  {
   "cell_type": "code",
   "execution_count": 70,
   "id": "4e818b37-dc1b-40b7-b9b6-53b82d0855de",
   "metadata": {},
   "outputs": [],
   "source": [
    "with open('./best_model.pkl','wb') as file:\n",
    "    pickle.dump(lr,file)"
   ]
  },
  {
   "cell_type": "code",
   "execution_count": null,
   "id": "db231d1c-4cf0-45c5-8fff-74ccac6122a1",
   "metadata": {},
   "outputs": [],
   "source": []
  }
 ],
 "metadata": {
  "kernelspec": {
   "display_name": "Python 3 (ipykernel)",
   "language": "python",
   "name": "python3"
  },
  "language_info": {
   "codemirror_mode": {
    "name": "ipython",
    "version": 3
   },
   "file_extension": ".py",
   "mimetype": "text/x-python",
   "name": "python",
   "nbconvert_exporter": "python",
   "pygments_lexer": "ipython3",
   "version": "3.12.4"
  }
 },
 "nbformat": 4,
 "nbformat_minor": 5
}
